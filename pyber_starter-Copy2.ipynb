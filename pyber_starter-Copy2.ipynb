{
 "cells": [
  {
   "cell_type": "code",
   "execution_count": 1,
   "metadata": {},
   "outputs": [
    {
     "data": {
      "text/html": [
       "<div>\n",
       "<style scoped>\n",
       "    .dataframe tbody tr th:only-of-type {\n",
       "        vertical-align: middle;\n",
       "    }\n",
       "\n",
       "    .dataframe tbody tr th {\n",
       "        vertical-align: top;\n",
       "    }\n",
       "\n",
       "    .dataframe thead th {\n",
       "        text-align: right;\n",
       "    }\n",
       "</style>\n",
       "<table border=\"1\" class=\"dataframe\">\n",
       "  <thead>\n",
       "    <tr style=\"text-align: right;\">\n",
       "      <th></th>\n",
       "      <th>city</th>\n",
       "      <th>date</th>\n",
       "      <th>fare</th>\n",
       "      <th>ride_id</th>\n",
       "      <th>driver_count</th>\n",
       "      <th>type</th>\n",
       "    </tr>\n",
       "  </thead>\n",
       "  <tbody>\n",
       "    <tr>\n",
       "      <th>0</th>\n",
       "      <td>Lake Jonathanshire</td>\n",
       "      <td>2018-01-14 10:14:22</td>\n",
       "      <td>13.83</td>\n",
       "      <td>5739410935873</td>\n",
       "      <td>5</td>\n",
       "      <td>Urban</td>\n",
       "    </tr>\n",
       "    <tr>\n",
       "      <th>1</th>\n",
       "      <td>Lake Jonathanshire</td>\n",
       "      <td>2018-04-07 20:51:11</td>\n",
       "      <td>31.25</td>\n",
       "      <td>4441251834598</td>\n",
       "      <td>5</td>\n",
       "      <td>Urban</td>\n",
       "    </tr>\n",
       "    <tr>\n",
       "      <th>2</th>\n",
       "      <td>Lake Jonathanshire</td>\n",
       "      <td>2018-03-09 23:45:55</td>\n",
       "      <td>19.89</td>\n",
       "      <td>2389495660448</td>\n",
       "      <td>5</td>\n",
       "      <td>Urban</td>\n",
       "    </tr>\n",
       "    <tr>\n",
       "      <th>3</th>\n",
       "      <td>Lake Jonathanshire</td>\n",
       "      <td>2018-04-07 18:09:21</td>\n",
       "      <td>24.28</td>\n",
       "      <td>7796805191168</td>\n",
       "      <td>5</td>\n",
       "      <td>Urban</td>\n",
       "    </tr>\n",
       "    <tr>\n",
       "      <th>4</th>\n",
       "      <td>Lake Jonathanshire</td>\n",
       "      <td>2018-01-02 14:14:50</td>\n",
       "      <td>13.89</td>\n",
       "      <td>424254840012</td>\n",
       "      <td>5</td>\n",
       "      <td>Urban</td>\n",
       "    </tr>\n",
       "  </tbody>\n",
       "</table>\n",
       "</div>"
      ],
      "text/plain": [
       "                 city                 date   fare        ride_id  \\\n",
       "0  Lake Jonathanshire  2018-01-14 10:14:22  13.83  5739410935873   \n",
       "1  Lake Jonathanshire  2018-04-07 20:51:11  31.25  4441251834598   \n",
       "2  Lake Jonathanshire  2018-03-09 23:45:55  19.89  2389495660448   \n",
       "3  Lake Jonathanshire  2018-04-07 18:09:21  24.28  7796805191168   \n",
       "4  Lake Jonathanshire  2018-01-02 14:14:50  13.89   424254840012   \n",
       "\n",
       "   driver_count   type  \n",
       "0             5  Urban  \n",
       "1             5  Urban  \n",
       "2             5  Urban  \n",
       "3             5  Urban  \n",
       "4             5  Urban  "
      ]
     },
     "execution_count": 1,
     "metadata": {},
     "output_type": "execute_result"
    }
   ],
   "source": [
    "%matplotlib inline\n",
    "# Dependencies and Setup\n",
    "import matplotlib.pyplot as plt\n",
    "import pandas as pd\n",
    "import numpy as np\n",
    "\n",
    "# File to Load (Remember to change these)\n",
    "city_data = \"data/city_data.csv\"\n",
    "ride_data = \"data/ride_data.csv\"\n",
    "\n",
    "# Read the City and Ride Data\n",
    "city_data_df = pd.read_csv(\"data/city_data.csv\")\n",
    "ride_data_df = pd.read_csv(\"data/ride_data.csv\")\n",
    "\n",
    "city_data_df.head(), ride_data_df.head()\n",
    "\n",
    "# Combine the data into a single dataset\n",
    "merged_df =ride_data_df.merge(city_data_df, left_on='city', right_on='city', how = 'outer')\n",
    "merged_df.head()\n",
    "\n",
    "\n",
    "\n",
    "# Display the data table for preview\n"
   ]
  },
  {
   "cell_type": "code",
   "execution_count": null,
   "metadata": {},
   "outputs": [],
   "source": []
  },
  {
   "cell_type": "code",
   "execution_count": 2,
   "metadata": {},
   "outputs": [
    {
     "data": {
      "text/plain": [
       "city\n",
       "Amandaburgh      18\n",
       "Barajasview      22\n",
       "Barronchester    16\n",
       "Bethanyland      18\n",
       "Bradshawfurt     10\n",
       "Name: driver_count, dtype: int64"
      ]
     },
     "execution_count": 2,
     "metadata": {},
     "output_type": "execute_result"
    }
   ],
   "source": [
    "#Group the data by city type\n",
    "\n",
    "city_count = merged_df.groupby([\"city\"]).count()[\"driver_count\"]\n",
    "city_count.head()"
   ]
  },
  {
   "cell_type": "code",
   "execution_count": 3,
   "metadata": {},
   "outputs": [
    {
     "data": {
      "text/plain": [
       "city\n",
       "Amandaburgh      24.641667\n",
       "Barajasview      25.332273\n",
       "Barronchester    36.422500\n",
       "Bethanyland      32.956111\n",
       "Bradshawfurt     40.064000\n",
       "Name: fare, dtype: float64"
      ]
     },
     "execution_count": 3,
     "metadata": {},
     "output_type": "execute_result"
    }
   ],
   "source": [
    "# Average Purchase Value\n",
    "city_fare = merged_df.groupby([\"city\"]).mean()[\"fare\"]\n",
    "city_fare.head()"
   ]
  },
  {
   "cell_type": "code",
   "execution_count": 4,
   "metadata": {},
   "outputs": [
    {
     "data": {
      "text/plain": [
       "city\n",
       "Amandaburgh      216\n",
       "Barajasview      572\n",
       "Barronchester    176\n",
       "Bethanyland      396\n",
       "Bradshawfurt      70\n",
       "Name: driver_count, dtype: int64"
      ]
     },
     "execution_count": 4,
     "metadata": {},
     "output_type": "execute_result"
    }
   ],
   "source": [
    "# Total Purchase Value\n",
    "city_drivers = merged_df.groupby([\"city\"]).sum()[\"driver_count\"]\n",
    "city_drivers.head()"
   ]
  },
  {
   "cell_type": "code",
   "execution_count": 5,
   "metadata": {},
   "outputs": [
    {
     "data": {
      "text/plain": [
       "city\n",
       "Amandaburgh      18\n",
       "Barajasview      22\n",
       "Barronchester    16\n",
       "Bethanyland      18\n",
       "Bradshawfurt     10\n",
       "Name: ride_id, dtype: int64"
      ]
     },
     "execution_count": 5,
     "metadata": {},
     "output_type": "execute_result"
    }
   ],
   "source": [
    "# Total Rides\n",
    "city_rides = merged_df.groupby([\"city\"]).count()[\"ride_id\"]\n",
    "city_rides.head()"
   ]
  },
  {
   "cell_type": "code",
   "execution_count": 6,
   "metadata": {},
   "outputs": [
    {
     "data": {
      "text/plain": [
       "city\n",
       "Lake Jonathanshire    Urban\n",
       "South Michelleport    Urban\n",
       "Port Samanthamouth    Urban\n",
       "Rodneyfort            Urban\n",
       "South Jack            Urban\n",
       "Name: type, dtype: object"
      ]
     },
     "execution_count": 6,
     "metadata": {},
     "output_type": "execute_result"
    }
   ],
   "source": [
    "city_list = merged_df.drop_duplicates(subset='city', keep='first').set_index('city')['type']\n",
    "city_list.head()"
   ]
  },
  {
   "cell_type": "code",
   "execution_count": 7,
   "metadata": {},
   "outputs": [
    {
     "data": {
      "text/html": [
       "<div>\n",
       "<style scoped>\n",
       "    .dataframe tbody tr th:only-of-type {\n",
       "        vertical-align: middle;\n",
       "    }\n",
       "\n",
       "    .dataframe tbody tr th {\n",
       "        vertical-align: top;\n",
       "    }\n",
       "\n",
       "    .dataframe thead th {\n",
       "        text-align: right;\n",
       "    }\n",
       "</style>\n",
       "<table border=\"1\" class=\"dataframe\">\n",
       "  <thead>\n",
       "    <tr style=\"text-align: right;\">\n",
       "      <th></th>\n",
       "      <th>City Type</th>\n",
       "      <th>Total Rides</th>\n",
       "      <th>Average Fare</th>\n",
       "      <th>Driver Count</th>\n",
       "    </tr>\n",
       "  </thead>\n",
       "  <tbody>\n",
       "    <tr>\n",
       "      <th>Amandaburgh</th>\n",
       "      <td>Urban</td>\n",
       "      <td>18</td>\n",
       "      <td>24.641667</td>\n",
       "      <td>216</td>\n",
       "    </tr>\n",
       "    <tr>\n",
       "      <th>Barajasview</th>\n",
       "      <td>Urban</td>\n",
       "      <td>22</td>\n",
       "      <td>25.332273</td>\n",
       "      <td>572</td>\n",
       "    </tr>\n",
       "    <tr>\n",
       "      <th>Barronchester</th>\n",
       "      <td>Suburban</td>\n",
       "      <td>16</td>\n",
       "      <td>36.422500</td>\n",
       "      <td>176</td>\n",
       "    </tr>\n",
       "    <tr>\n",
       "      <th>Bethanyland</th>\n",
       "      <td>Suburban</td>\n",
       "      <td>18</td>\n",
       "      <td>32.956111</td>\n",
       "      <td>396</td>\n",
       "    </tr>\n",
       "    <tr>\n",
       "      <th>Bradshawfurt</th>\n",
       "      <td>Rural</td>\n",
       "      <td>10</td>\n",
       "      <td>40.064000</td>\n",
       "      <td>70</td>\n",
       "    </tr>\n",
       "  </tbody>\n",
       "</table>\n",
       "</div>"
      ],
      "text/plain": [
       "              City Type  Total Rides  Average Fare  Driver Count\n",
       "Amandaburgh       Urban           18     24.641667           216\n",
       "Barajasview       Urban           22     25.332273           572\n",
       "Barronchester  Suburban           16     36.422500           176\n",
       "Bethanyland    Suburban           18     32.956111           396\n",
       "Bradshawfurt      Rural           10     40.064000            70"
      ]
     },
     "execution_count": 7,
     "metadata": {},
     "output_type": "execute_result"
    }
   ],
   "source": [
    "    \n",
    "citybubble = pd.DataFrame({  \"City Type\":city_list,\n",
    "                      \"Total Rides\": city_rides,\n",
    "                            \"Average Fare\": city_fare,\n",
    "                           \"Driver Count\": city_drivers \n",
    "                           })\n",
    "\n",
    "citybubble.head()\n",
    "\n",
    "#Need to insert the city type here rather than the \"class type\""
   ]
  },
  {
   "cell_type": "code",
   "execution_count": 8,
   "metadata": {
    "scrolled": true
   },
   "outputs": [
    {
     "data": {
      "text/plain": [
       "<matplotlib.collections.PathCollection at 0x163995ff3c8>"
      ]
     },
     "execution_count": 8,
     "metadata": {},
     "output_type": "execute_result"
    },
    {
     "data": {
      "image/png": "[encoded data removed]",
      "text/plain": [
       "<Figure size 432x288 with 1 Axes>"
      ]
     },
     "metadata": {
      "needs_background": "light"
     },
     "output_type": "display_data"
    }
   ],
   "source": [
    "\n",
    "#Need to incorporate the labels and the colors\n",
    "#Can't figure out how to group them by city type and give each group a color\n",
    "\n",
    "RCity = citybubble[citybubble[\"City Type\"] == 'Rural']\n",
    "SCity = citybubble[citybubble['City Type'] == 'Suburban']\n",
    "UCity = citybubble[citybubble['City Type'] == 'Urban']\n",
    " \n",
    "plt.scatter(x=citybubble['Driver Count'], y=citybubble['Average Fare'], s=citybubble['Total Rides']*20, color = ['gold'])\n",
    " "
   ]
  },
  {
   "cell_type": "code",
   "execution_count": null,
   "metadata": {
    "scrolled": true
   },
   "outputs": [],
   "source": []
  },
  {
   "cell_type": "markdown",
   "metadata": {},
   "source": [
    "## Bubble Plot of Ride Sharing Data"
   ]
  },
  {
   "cell_type": "code",
   "execution_count": null,
   "metadata": {
    "scrolled": true
   },
   "outputs": [],
   "source": [
    " "
   ]
  },
  {
   "cell_type": "markdown",
   "metadata": {},
   "source": [
    "## Total Fares by City Type"
   ]
  },
  {
   "cell_type": "code",
   "execution_count": 9,
   "metadata": {},
   "outputs": [
    {
     "data": {
      "image/png": "[encoded data removed]",
      "text/plain": [
       "<Figure size 432x288 with 1 Axes>"
      ]
     },
     "metadata": {},
     "output_type": "display_data"
    }
   ],
   "source": [
    "# Calculate Type Percents\n",
    "\n",
    "city_fares = merged_df.groupby(['type'])['fare'].sum()\n",
    "# Labels for the sections of our pie chart\n",
    "labels = [\"Rural\",\"Suburban\",\"Urban\" ]\n",
    "colors = [\"gold\",\"lightskyblue\",\"lightcoral\"]\n",
    "explode = [0,0,0.1]\n",
    "shadow = \"True\"\n",
    "plt.pie(city_fares, explode=explode, labels=labels, colors=colors,\n",
    "        autopct=\"%1.1f%%\", shadow=True, startangle=150)  \n",
    "plt.title(\"% of Total Fares By City Types\")\n",
    "plt.savefig(\"Total Fares By City Types.png\")\n",
    "\n",
    "plt.show() \n",
    "\n",
    "# Build Pie Chart\n",
    "\n",
    "# Save Figure\n",
    "\n",
    "##NEED TO COME BACK AND ADD THE STEP TO SAVE THE IMAGE OUT\n"
   ]
  },
  {
   "cell_type": "code",
   "execution_count": 10,
   "metadata": {},
   "outputs": [],
   "source": [
    "# Show Figure\n",
    "plt.show()"
   ]
  },
  {
   "cell_type": "markdown",
   "metadata": {},
   "source": [
    "## Total Rides by City Type"
   ]
  },
  {
   "cell_type": "code",
   "execution_count": 11,
   "metadata": {},
   "outputs": [
    {
     "data": {
      "image/png": "[encoded data removed]",
      "text/plain": [
       "<Figure size 432x288 with 1 Axes>"
      ]
     },
     "metadata": {},
     "output_type": "display_data"
    }
   ],
   "source": [
    "# Calculate Ride Percents\n",
    "\n",
    "\n",
    "# Calculate Type Percents\n",
    "\n",
    "city_rides = merged_df.groupby(['type'])['fare'].count()\n",
    "# Labels for the sections of our pie chart\n",
    "labels = [\"Rural\",\"Suburban\",\"Urban\" ]\n",
    "colors = [\"yellow\",\"lightskyblue\",\"lightcoral\"]\n",
    "explode = [0,0,0.1]\n",
    "plt.pie(city_rides, explode=explode, labels=labels, colors=colors,\n",
    "        autopct=\"%1.1f%%\", shadow=True, startangle=150)  \n",
    "plt.title(\"% of Total Rides By City Types\")\n",
    "plt.savefig(\"Total Rides By City Types.png\")\n",
    "\n",
    "plt.show() \n",
    "\n",
    "# Build Pie Chart\n",
    "\n",
    "# Save Figure\n"
   ]
  },
  {
   "cell_type": "code",
   "execution_count": 12,
   "metadata": {},
   "outputs": [],
   "source": [
    "# Show Figure\n",
    "plt.show()"
   ]
  },
  {
   "cell_type": "markdown",
   "metadata": {},
   "source": [
    "## Total Drivers by City Type"
   ]
  },
  {
   "cell_type": "code",
   "execution_count": 13,
   "metadata": {},
   "outputs": [
    {
     "data": {
      "image/png": "[encoded data removed]",
      "text/plain": [
       "<Figure size 432x288 with 1 Axes>"
      ]
     },
     "metadata": {},
     "output_type": "display_data"
    }
   ],
   "source": [
    "# Calculate Driver Percents\n",
    "\n",
    " \n",
    "city_drivers = merged_df.groupby(['type'])['driver_count'].sum()\n",
    "# Labels for the sections of our pie chart\n",
    "labels = [\"Rural\",\"Suburban\",\"Urban\" ]\n",
    "colors = [\"yellow\",\"lightskyblue\",\"lightcoral\"]\n",
    "explode = [0,0,0.1]\n",
    "plt.pie(city_drivers, explode=explode, labels=labels, colors=colors,\n",
    "        autopct=\"%1.1f%%\", shadow=True, startangle=150)  \n",
    "plt.title(\"% of Total Drivers By City Types\")\n",
    "plt.savefig(\"Total Drivers By City Types.png\")\n",
    "\n",
    "\n",
    "plt.show() \n",
    "# Build Pie Charts\n",
    "\n",
    "# Save Figure\n"
   ]
  },
  {
   "cell_type": "code",
   "execution_count": 14,
   "metadata": {
    "scrolled": true
   },
   "outputs": [],
   "source": [
    "# Show Figure\n",
    "plt.show()"
   ]
  },
  {
   "cell_type": "code",
   "execution_count": null,
   "metadata": {},
   "outputs": [],
   "source": []
  }
 ],
 "metadata": {
  "anaconda-cloud": {},
  "kernelspec": {
   "display_name": "Python 3",
   "language": "python",
   "name": "python3"
  },
  "language_info": {
   "codemirror_mode": {
    "name": "ipython",
    "version": 3
   },
   "file_extension": ".py",
   "mimetype": "text/x-python",
   "name": "python",
   "nbconvert_exporter": "python",
   "pygments_lexer": "ipython3",
   "version": "3.7.1"
  }
 },
 "nbformat": 4,
 "nbformat_minor": 2
}
